{
 "cells": [
  {
   "cell_type": "markdown",
   "id": "65f5e51b",
   "metadata": {},
   "source": [
    "# NFL Offensive Scheme Classifier\n",
    "This notebook trains a machine learning model to classify NFL teams into one of 8 offensive schemes based on their play data."
   ]
  },
  {
   "cell_type": "code",
   "execution_count": 2,
   "id": "1758352f",
   "metadata": {},
   "outputs": [],
   "source": [
    "\n",
    "import nfl_data_py as nfl\n",
    "import pandas as pd\n",
    "import numpy as np\n",
    "from sklearn.ensemble import RandomForestClassifier\n",
    "from sklearn.model_selection import train_test_split\n",
    "from sklearn.preprocessing import LabelEncoder, StandardScaler\n",
    "from sklearn.metrics import accuracy_score, classification_report\n",
    "    "
   ]
  },
  {
   "cell_type": "markdown",
   "id": "35f9bfda",
   "metadata": {},
   "source": [
    "## Load and Preprocess Data"
   ]
  },
  {
   "cell_type": "code",
   "execution_count": 3,
   "id": "439ac816",
   "metadata": {},
   "outputs": [
    {
     "name": "stdout",
     "output_type": "stream",
     "text": [
      "2024 done.\n",
      "Downcasting floats.\n"
     ]
    }
   ],
   "source": [
    "\n",
    "# Load play-by-play data for 2024\n",
    "pbp_data = nfl.import_pbp_data([2024])\n",
    "\n",
    "# Filter for offensive plays only (exclude special teams & defensive plays)\n",
    "pbp_offense = pbp_data[\n",
    "    (pbp_data['play_type'].isin(['pass', 'run'])) & \n",
    "    (pbp_data['posteam'].notna())\n",
    "]\n",
    "\n",
    "# Select relevant columns\n",
    "columns_to_keep = [\n",
    "    \"posteam\", \"week\", \"pass_attempt\", \"rush_attempt\", \"shotgun\", \"no_huddle\",\n",
    "    \"qb_scramble\", \"first_down_rush\", \"first_down_pass\", \"qb_dropback\",\n",
    "    \"pass_length\", \"pass_location\", \"run_location\", \"run_gap\", \"yards_after_catch\",\n",
    "    \"play_type\", \"yards_gained\", \"air_yards\", \"epa\", \"ydstogo\", \"down\"\n",
    "]\n",
    "pbp_offense = pbp_offense[columns_to_keep]\n",
    "    "
   ]
  },
  {
   "cell_type": "markdown",
   "id": "50770a59",
   "metadata": {},
   "source": [
    "## Feature Engineering"
   ]
  },
  {
   "cell_type": "code",
   "execution_count": 4,
   "id": "7b6a8041",
   "metadata": {},
   "outputs": [],
   "source": [
    "\n",
    "# Function to calculate per-game team stats\n",
    "def process_team_data(df):\n",
    "    num_plays = df[\"qb_dropback\"].sum() + df[\"rush_attempt\"].sum()\n",
    "\n",
    "    return pd.Series({\n",
    "        \"pass_to_run\": df[\"qb_dropback\"].sum() / df[\"rush_attempt\"].sum(),\n",
    "        \"shotgun_freq\": df[\"shotgun\"].sum() / num_plays,\n",
    "        \"no_huddle_freq\": df[\"no_huddle\"].sum() / num_plays,\n",
    "        \"short_passes_freq\": (df[\"pass_length\"] == \"short\").sum() / num_plays,\n",
    "        \"deep_passes_freq\": (df[\"pass_length\"] == \"deep\").sum() / num_plays,\n",
    "        \"middle_passes\": (df[\"pass_location\"] == \"middle\").sum() / df[\"pass_attempt\"].sum(),\n",
    "        \"side_passes\": (df[\"pass_location\"].isin([\"left\", \"right\"])).sum() / df[\"pass_attempt\"].sum(),\n",
    "        \"scramble_freq\": df[\"qb_scramble\"].sum() / df[\"rush_attempt\"].sum(),\n",
    "        \"first_down_rush_pct\": df[\"first_down_rush\"].sum() / (df[\"first_down_rush\"].sum() + df[\"first_down_pass\"].sum()),\n",
    "        \"first_down_pass_pct\": df[\"first_down_pass\"].sum() / (df[\"first_down_rush\"].sum() + df[\"first_down_pass\"].sum()),\n",
    "        \"epa_pass\": df[df[\"play_type\"] == \"pass\"][\"epa\"].mean(),\n",
    "        \"epa_run\": df[df[\"play_type\"] == \"run\"][\"epa\"].mean(),\n",
    "        \"yac\": df[df[\"play_type\"] == \"pass\"][\"yards_after_catch\"].mean(),\n",
    "        \"inside_run_pct\": df[(df[\"play_type\"] == \"run\") & (df[\"run_gap\"] == \"guard\") & (df[\"run_location\"] == \"middle\")].shape[0] / df[df[\"play_type\"] == \"run\"].shape[0],\n",
    "        \"outside_run_pct\": df[(df[\"play_type\"] == \"run\") & (df[\"run_gap\"].isin([\"tackle\", \"end\"])) & (df[\"run_location\"] != \"middle\")].shape[0] / df[df[\"play_type\"] == \"run\"].shape[0],\n",
    "        \"yards_gained_1\": df[df[\"down\"] == 1][\"yards_gained\"].mean(),\n",
    "        \"yards_gained_2\": df[df[\"down\"] == 2][\"yards_gained\"].mean(),\n",
    "        \"yards_gained_3\": df[df[\"down\"] == 3][\"yards_gained\"].mean(),\n",
    "        \"yards_gained_4\": df[df[\"down\"] == 4][\"yards_gained\"].mean(),\n",
    "        \"ydstogo_3rd_down\": df[df[\"down\"] == 3][\"ydstogo\"].mean()\n",
    "    })\n",
    "\n",
    "# Aggregate stats per game for each team\n",
    "team_weekly_data = pbp_offense.groupby([\"posteam\", \"week\"]).apply(process_team_data).reset_index()\n",
    "\n",
    "# Compute seasonal averages for each team\n",
    "team_seasonal_data = team_weekly_data.groupby(\"posteam\").mean().reset_index()\n",
    "    "
   ]
  },
  {
   "cell_type": "markdown",
   "id": "d30fce65",
   "metadata": {},
   "source": [
    "## Assign Offensive Schemes"
   ]
  },
  {
   "cell_type": "code",
   "execution_count": 6,
   "id": "8baca9a4",
   "metadata": {},
   "outputs": [],
   "source": [
    "\n",
    "# Manually assign offensive schemes to teams\n",
    "team_schemes = {\n",
    "    \"MIN\": \"McVay System\", \"LAR\": \"McVay System\",\n",
    "    \"WAS\": \"Air Raid\", \"PHI\": \"Spread Option\",\n",
    "    \"LAC\": \"Coryell Vertical\", \"GB\": \"West Coast\",\n",
    "    \"PIT\": \"Run Power\", \"NYG\": \"Pistol Power Spread\",\n",
    "    \"SF\": \"Shanahan Wide Zone\"\n",
    "}\n",
    "\n",
    "# Assign labels\n",
    "team_seasonal_data[\"scheme\"] = team_seasonal_data[\"posteam\"].map(team_schemes)\n",
    "\n",
    "# Remove teams with unknown schemes\n",
    "team_seasonal_data = team_seasonal_data.dropna(subset=[\"scheme\"])\n",
    "\n",
    "# Encode target variable (scheme)\n",
    "label_encoder = LabelEncoder()\n",
    "team_seasonal_data[\"scheme\"] = label_encoder.fit_transform(team_seasonal_data[\"scheme\"])\n",
    "    "
   ]
  },
  {
   "cell_type": "markdown",
   "id": "f25fd259",
   "metadata": {},
   "source": [
    "## Train Machine Learning Model"
   ]
  },
  {
   "cell_type": "code",
   "execution_count": 7,
   "id": "cca28032",
   "metadata": {},
   "outputs": [
    {
     "name": "stdout",
     "output_type": "stream",
     "text": [
      "Model Accuracy: 0.0\n"
     ]
    },
    {
     "ename": "ValueError",
     "evalue": "Number of classes, 4, does not match size of target_names, 8. Try specifying the labels parameter",
     "output_type": "error",
     "traceback": [
      "\u001b[1;31m---------------------------------------------------------------------------\u001b[0m",
      "\u001b[1;31mValueError\u001b[0m                                Traceback (most recent call last)",
      "Cell \u001b[1;32mIn[7], line 20\u001b[0m\n\u001b[0;32m     18\u001b[0m y_pred \u001b[38;5;241m=\u001b[39m clf\u001b[38;5;241m.\u001b[39mpredict(X_test)\n\u001b[0;32m     19\u001b[0m \u001b[38;5;28mprint\u001b[39m(\u001b[38;5;124m\"\u001b[39m\u001b[38;5;124mModel Accuracy:\u001b[39m\u001b[38;5;124m\"\u001b[39m, accuracy_score(y_test, y_pred))\n\u001b[1;32m---> 20\u001b[0m \u001b[38;5;28mprint\u001b[39m(\u001b[43mclassification_report\u001b[49m\u001b[43m(\u001b[49m\u001b[43my_test\u001b[49m\u001b[43m,\u001b[49m\u001b[43m \u001b[49m\u001b[43my_pred\u001b[49m\u001b[43m,\u001b[49m\u001b[43m \u001b[49m\u001b[43mtarget_names\u001b[49m\u001b[38;5;241;43m=\u001b[39;49m\u001b[43mlabel_encoder\u001b[49m\u001b[38;5;241;43m.\u001b[39;49m\u001b[43mclasses_\u001b[49m\u001b[43m)\u001b[49m)\n",
      "File \u001b[1;32mc:\\Users\\dgmen\\OneDrive\\Documents\\nfl\\.venv\\Lib\\site-packages\\sklearn\\utils\\_param_validation.py:216\u001b[0m, in \u001b[0;36mvalidate_params.<locals>.decorator.<locals>.wrapper\u001b[1;34m(*args, **kwargs)\u001b[0m\n\u001b[0;32m    210\u001b[0m \u001b[38;5;28;01mtry\u001b[39;00m:\n\u001b[0;32m    211\u001b[0m     \u001b[38;5;28;01mwith\u001b[39;00m config_context(\n\u001b[0;32m    212\u001b[0m         skip_parameter_validation\u001b[38;5;241m=\u001b[39m(\n\u001b[0;32m    213\u001b[0m             prefer_skip_nested_validation \u001b[38;5;129;01mor\u001b[39;00m global_skip_validation\n\u001b[0;32m    214\u001b[0m         )\n\u001b[0;32m    215\u001b[0m     ):\n\u001b[1;32m--> 216\u001b[0m         \u001b[38;5;28;01mreturn\u001b[39;00m \u001b[43mfunc\u001b[49m\u001b[43m(\u001b[49m\u001b[38;5;241;43m*\u001b[39;49m\u001b[43margs\u001b[49m\u001b[43m,\u001b[49m\u001b[43m \u001b[49m\u001b[38;5;241;43m*\u001b[39;49m\u001b[38;5;241;43m*\u001b[39;49m\u001b[43mkwargs\u001b[49m\u001b[43m)\u001b[49m\n\u001b[0;32m    217\u001b[0m \u001b[38;5;28;01mexcept\u001b[39;00m InvalidParameterError \u001b[38;5;28;01mas\u001b[39;00m e:\n\u001b[0;32m    218\u001b[0m     \u001b[38;5;66;03m# When the function is just a wrapper around an estimator, we allow\u001b[39;00m\n\u001b[0;32m    219\u001b[0m     \u001b[38;5;66;03m# the function to delegate validation to the estimator, but we replace\u001b[39;00m\n\u001b[0;32m    220\u001b[0m     \u001b[38;5;66;03m# the name of the estimator by the name of the function in the error\u001b[39;00m\n\u001b[0;32m    221\u001b[0m     \u001b[38;5;66;03m# message to avoid confusion.\u001b[39;00m\n\u001b[0;32m    222\u001b[0m     msg \u001b[38;5;241m=\u001b[39m re\u001b[38;5;241m.\u001b[39msub(\n\u001b[0;32m    223\u001b[0m         \u001b[38;5;124mr\u001b[39m\u001b[38;5;124m\"\u001b[39m\u001b[38;5;124mparameter of \u001b[39m\u001b[38;5;124m\\\u001b[39m\u001b[38;5;124mw+ must be\u001b[39m\u001b[38;5;124m\"\u001b[39m,\n\u001b[0;32m    224\u001b[0m         \u001b[38;5;124mf\u001b[39m\u001b[38;5;124m\"\u001b[39m\u001b[38;5;124mparameter of \u001b[39m\u001b[38;5;132;01m{\u001b[39;00mfunc\u001b[38;5;241m.\u001b[39m\u001b[38;5;18m__qualname__\u001b[39m\u001b[38;5;132;01m}\u001b[39;00m\u001b[38;5;124m must be\u001b[39m\u001b[38;5;124m\"\u001b[39m,\n\u001b[0;32m    225\u001b[0m         \u001b[38;5;28mstr\u001b[39m(e),\n\u001b[0;32m    226\u001b[0m     )\n",
      "File \u001b[1;32mc:\\Users\\dgmen\\OneDrive\\Documents\\nfl\\.venv\\Lib\\site-packages\\sklearn\\metrics\\_classification.py:2693\u001b[0m, in \u001b[0;36mclassification_report\u001b[1;34m(y_true, y_pred, labels, target_names, sample_weight, digits, output_dict, zero_division)\u001b[0m\n\u001b[0;32m   2687\u001b[0m         warnings\u001b[38;5;241m.\u001b[39mwarn(\n\u001b[0;32m   2688\u001b[0m             \u001b[38;5;124m\"\u001b[39m\u001b[38;5;124mlabels size, \u001b[39m\u001b[38;5;132;01m{0}\u001b[39;00m\u001b[38;5;124m, does not match size of target_names, \u001b[39m\u001b[38;5;132;01m{1}\u001b[39;00m\u001b[38;5;124m\"\u001b[39m\u001b[38;5;241m.\u001b[39mformat(\n\u001b[0;32m   2689\u001b[0m                 \u001b[38;5;28mlen\u001b[39m(labels), \u001b[38;5;28mlen\u001b[39m(target_names)\n\u001b[0;32m   2690\u001b[0m             )\n\u001b[0;32m   2691\u001b[0m         )\n\u001b[0;32m   2692\u001b[0m     \u001b[38;5;28;01melse\u001b[39;00m:\n\u001b[1;32m-> 2693\u001b[0m         \u001b[38;5;28;01mraise\u001b[39;00m \u001b[38;5;167;01mValueError\u001b[39;00m(\n\u001b[0;32m   2694\u001b[0m             \u001b[38;5;124m\"\u001b[39m\u001b[38;5;124mNumber of classes, \u001b[39m\u001b[38;5;132;01m{0}\u001b[39;00m\u001b[38;5;124m, does not match size of \u001b[39m\u001b[38;5;124m\"\u001b[39m\n\u001b[0;32m   2695\u001b[0m             \u001b[38;5;124m\"\u001b[39m\u001b[38;5;124mtarget_names, \u001b[39m\u001b[38;5;132;01m{1}\u001b[39;00m\u001b[38;5;124m. Try specifying the labels \u001b[39m\u001b[38;5;124m\"\u001b[39m\n\u001b[0;32m   2696\u001b[0m             \u001b[38;5;124m\"\u001b[39m\u001b[38;5;124mparameter\u001b[39m\u001b[38;5;124m\"\u001b[39m\u001b[38;5;241m.\u001b[39mformat(\u001b[38;5;28mlen\u001b[39m(labels), \u001b[38;5;28mlen\u001b[39m(target_names))\n\u001b[0;32m   2697\u001b[0m         )\n\u001b[0;32m   2698\u001b[0m \u001b[38;5;28;01mif\u001b[39;00m target_names \u001b[38;5;129;01mis\u001b[39;00m \u001b[38;5;28;01mNone\u001b[39;00m:\n\u001b[0;32m   2699\u001b[0m     target_names \u001b[38;5;241m=\u001b[39m [\u001b[38;5;124m\"\u001b[39m\u001b[38;5;132;01m%s\u001b[39;00m\u001b[38;5;124m\"\u001b[39m \u001b[38;5;241m%\u001b[39m l \u001b[38;5;28;01mfor\u001b[39;00m l \u001b[38;5;129;01min\u001b[39;00m labels]\n",
      "\u001b[1;31mValueError\u001b[0m: Number of classes, 4, does not match size of target_names, 8. Try specifying the labels parameter"
     ]
    }
   ],
   "source": [
    "\n",
    "X = team_seasonal_data.drop(columns=[\"posteam\", \"scheme\"])\n",
    "y = team_seasonal_data[\"scheme\"]\n",
    "\n",
    "# Split into training and testing sets\n",
    "X_train, X_test, y_train, y_test = train_test_split(X, y, test_size=0.2, random_state=42)\n",
    "\n",
    "# Standardize the features\n",
    "scaler = StandardScaler()\n",
    "X_train = scaler.fit_transform(X_train)\n",
    "X_test = scaler.transform(X_test)\n",
    "\n",
    "# Train a random forest classifier\n",
    "clf = RandomForestClassifier(n_estimators=100, random_state=42)\n",
    "clf.fit(X_train, y_train)\n",
    "\n",
    "# Evaluate the model\n",
    "try:\n",
    "    y_pred = clf.predict(X_test)\n",
    "    if len(y_test) > 0:\n",
    "        print(\"Model Accuracy:\", accuracy_score(y_test, y_pred))\n",
    "        print(\"\\nDetailed Classification Report:\")\n",
    "        print(classification_report(y_test, y_pred, target_names=label_encoder.classes_))\n",
    "    else:\n",
    "        print(\"Warning: No test data available for evaluation\")\n",
    "except Exception as e:\n",
    "    print(f\"Error evaluating model: {str(e)}\")\n",
    "    "
   ]
  },
  {
   "cell_type": "markdown",
   "id": "4fc88681",
   "metadata": {},
   "source": [
    "## Predict Bears' Offensive Scheme"
   ]
  },
  {
   "cell_type": "code",
   "execution_count": null,
   "id": "88f5e60e",
   "metadata": {},
   "outputs": [],
   "source": [
    "\n",
    "if \"CHI\" in pbp_offense[\"posteam\"].values:\n",
    "    # Process Bears data the same way as training data\n",
    "    bears_weekly = pbp_offense[pbp_offense[\"posteam\"] == \"CHI\"].groupby(\"week\").apply(process_team_data).mean()\n",
    "    bears_data = pd.DataFrame([bears_weekly])\n",
    "    \n",
    "    # Ensure features match training data\n",
    "    bears_features = bears_data[X.columns]\n",
    "    bears_scaled = scaler.transform(bears_features)\n",
    "    \n",
    "    # Predict and decode\n",
    "    bears_scheme = clf.predict(bears_scaled)\n",
    "    print(\"Predicted Scheme for Bears:\", label_encoder.inverse_transform(bears_scheme)[0])\n",
    "else:\n",
    "    print(\"No data available for the Bears.\")\n",
    "    "
   ]
  }
 ],
 "metadata": {
  "kernelspec": {
   "display_name": ".venv",
   "language": "python",
   "name": "python3"
  },
  "language_info": {
   "codemirror_mode": {
    "name": "ipython",
    "version": 3
   },
   "file_extension": ".py",
   "mimetype": "text/x-python",
   "name": "python",
   "nbconvert_exporter": "python",
   "pygments_lexer": "ipython3",
   "version": "3.12.6"
  }
 },
 "nbformat": 4,
 "nbformat_minor": 5
}
